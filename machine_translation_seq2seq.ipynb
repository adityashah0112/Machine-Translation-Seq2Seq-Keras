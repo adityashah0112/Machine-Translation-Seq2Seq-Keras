{
  "cells": [
    {
      "cell_type": "markdown",
      "source": [
        "# IST664/CIS668 - Final Project\n",
        "Originality Assertion:\n",
        "I wrote all of the explanatory text and comments in this notebook. \n",
        "\n",
        "The root notebook was adapted from https://github.com/lukysummer/Machine-Translation-Seq2Seq-Keras\n",
        "\n",
        "\n",
        "Name: ADITYA MANISHKUMAR SHAH\n"
      ],
      "metadata": {
        "id": "XaCaIsFQZ0mk"
      }
    },
    {
      "cell_type": "markdown",
      "metadata": {
        "collapsed": true,
        "id": "15SbBGxLYqdC"
      },
      "source": [
        "# Machine Translation: seq2seq model"
      ]
    },
    {
      "cell_type": "code",
      "execution_count": 2,
      "metadata": {
        "id": "Scf25KIfYqdD"
      },
      "outputs": [],
      "source": [
        "%load_ext autoreload\n",
        "%autoreload 1"
      ]
    },
    {
      "cell_type": "code",
      "execution_count": 17,
      "metadata": {
        "id": "g1AA5WPyYqdE"
      },
      "outputs": [],
      "source": [
        "import collections\n",
        "import numpy as np\n",
        "import tensorflow as tf\n",
        "# Making relevant import statements for layers of the model.\n",
        "from tensorflow.keras.layers import Input, Dense, Bidirectional, LSTM, Embedding\n",
        "from tensorflow.keras.models import Model\n",
        "\n",
        "# Model optimizer and loss parameters\n",
        "from tensorflow.keras.optimizers import Adam\n",
        "from tensorflow.keras.losses import sparse_categorical_crossentropy\n",
        "tf.compat.v1.logging.set_verbosity(tf.compat.v1.logging.ERROR)\n",
        "\n",
        "# Suppressing warnings\n",
        "import warnings\n",
        "warnings.filterwarnings(\"ignore\")"
      ]
    },
    {
      "cell_type": "markdown",
      "metadata": {
        "id": "Fa17G-U7YqdE"
      },
      "source": [
        "Verify access to the GPU"
      ]
    },
    {
      "cell_type": "code",
      "execution_count": 4,
      "metadata": {
        "id": "Yxl6zkclYqdF",
        "colab": {
          "base_uri": "https://localhost:8080/",
          "height": 0
        },
        "outputId": "16ea0daf-b120-42d4-adac-1bdbd7ecf30d"
      },
      "outputs": [
        {
          "output_type": "stream",
          "name": "stdout",
          "text": [
            "[name: \"/device:CPU:0\"\n",
            "device_type: \"CPU\"\n",
            "memory_limit: 268435456\n",
            "locality {\n",
            "}\n",
            "incarnation: 2982305168147643588\n",
            "xla_global_id: -1\n",
            ", name: \"/device:GPU:0\"\n",
            "device_type: \"GPU\"\n",
            "memory_limit: 14465892352\n",
            "locality {\n",
            "  bus_id: 1\n",
            "  links {\n",
            "  }\n",
            "}\n",
            "incarnation: 2364376005426287047\n",
            "physical_device_desc: \"device: 0, name: Tesla T4, pci bus id: 0000:00:04.0, compute capability: 7.5\"\n",
            "xla_global_id: 416903419\n",
            "]\n"
          ]
        }
      ],
      "source": [
        "from tensorflow.python.client import device_lib\n",
        "print(device_lib.list_local_devices())"
      ]
    },
    {
      "cell_type": "markdown",
      "source": [
        "## Introduction\n",
        "\n",
        "**Summary of the algorithm**\n",
        "\n",
        "* An RNN stack acts as \"encoder\": it will process the input and return the internal states. In doing so, we discard the outputs of this RNN stack, only recovering the state. This state will act as our \"context\" of the decoder in the next step.\n",
        "* Another RNN stack acts as \"decoder\": Trained to predict the next characters of our target, provided with previous characters of the same sequence. It is trained to convert the target sequences into the same sequences but offset by **one** timestep in the future, by using a process called **\"teacher forcing\"** used in training. Moreover, our encoder uses the intermediate states from the encoder as initial state, which is how the decoder infers about what it is supposed to generate."
      ],
      "metadata": {
        "id": "xQdwtktZkBu0"
      }
    },
    {
      "cell_type": "markdown",
      "metadata": {
        "id": "GNcleTOSYqdF"
      },
      "source": [
        "# 1. Load Data\n",
        "The dataset used in the example involves short French and English sentence pairs\n",
        "\n",
        "Steps to load data include:\n",
        "* Download data from the github raw\n",
        "* Read the data into vectors."
      ]
    },
    {
      "cell_type": "code",
      "source": [
        "!curl -O https://raw.githubusercontent.com/adityashah0112/Machine-Translation-Seq2Seq-Keras/master/data/small_vocab_en\n",
        "!curl -O https://raw.githubusercontent.com/adityashah0112/Machine-Translation-Seq2Seq-Keras/master/data/small_vocab_fr"
      ],
      "metadata": {
        "id": "gAK1gpICTs4Z",
        "colab": {
          "base_uri": "https://localhost:8080/",
          "height": 0
        },
        "outputId": "b06fa7e6-1765-4016-9a8b-a24644922ee9"
      },
      "execution_count": 5,
      "outputs": [
        {
          "output_type": "stream",
          "name": "stdout",
          "text": [
            "  % Total    % Received % Xferd  Average Speed   Time    Time     Time  Current\n",
            "                                 Dload  Upload   Total   Spent    Left  Speed\n",
            "100 8872k  100 8872k    0     0  9968k      0 --:--:-- --:--:-- --:--:-- 9957k\n",
            "  % Total    % Received % Xferd  Average Speed   Time    Time     Time  Current\n",
            "                                 Dload  Upload   Total   Spent    Left  Speed\n",
            "100 9898k  100 9898k    0     0  10.7M      0 --:--:-- --:--:-- --:--:-- 10.7M\n"
          ]
        }
      ]
    },
    {
      "cell_type": "code",
      "execution_count": 6,
      "metadata": {
        "colab": {
          "base_uri": "https://localhost:8080/",
          "height": 0
        },
        "id": "WCOAyifKYqdF",
        "outputId": "8ec12c09-3168-434c-c8c7-32e7202ced6c"
      },
      "outputs": [
        {
          "output_type": "stream",
          "name": "stdout",
          "text": [
            "Dataset Loaded\n"
          ]
        }
      ],
      "source": [
        "with open('./small_vocab_en', 'r') as f:\n",
        "    eng_sentences = f.read().split('\\n')\n",
        "    \n",
        "with open('./small_vocab_fr', 'r') as f:\n",
        "    fre_sentences = f.read().split('\\n')\n",
        "\n",
        "print('Dataset Loaded')"
      ]
    },
    {
      "cell_type": "code",
      "execution_count": 7,
      "metadata": {
        "colab": {
          "base_uri": "https://localhost:8080/",
          "height": 0
        },
        "id": "lvK15FE6YqdF",
        "outputId": "7b1ca9c0-b1c0-4af3-d40a-3eb872b08e6c"
      },
      "outputs": [
        {
          "output_type": "stream",
          "name": "stdout",
          "text": [
            "English Sentence 1 :  new jersey is sometimes quiet during autumn , and it is snowy in april .\n",
            "French Sentence 1  :  new jersey est parfois calme pendant l' automne , et il est neigeux en avril .\n",
            "\n",
            "English Sentence 2 :  the united states is usually chilly during july , and it is usually freezing in november .\n",
            "French Sentence 2  :  les états-unis est généralement froid en juillet , et il gèle habituellement en novembre .\n",
            "\n"
          ]
        }
      ],
      "source": [
        "for sample_i in range(2):\n",
        "    print('English Sentence {} :  {}'.format(sample_i+1, eng_sentences[sample_i]))\n",
        "    print('French Sentence {}  :  {}\\n'.format(sample_i+1, fre_sentences[sample_i]))"
      ]
    },
    {
      "cell_type": "markdown",
      "metadata": {
        "id": "l2eretDKYqdG"
      },
      "source": [
        "# 2. Pre-process text\n",
        "\n",
        "The preprocessing will include steps such as:\n",
        "* Tokenization from text to sequences\n",
        "* Padding of these sequences with a start and end token that can be distinguehed from the other tokens in the text.\n"
      ]
    },
    {
      "cell_type": "markdown",
      "source": [
        "## 2.1. Tokenize function"
      ],
      "metadata": {
        "id": "CPCHe50m2A00"
      }
    },
    {
      "cell_type": "code",
      "execution_count": 8,
      "metadata": {
        "id": "Vs4lm8DmYqdG"
      },
      "outputs": [],
      "source": [
        "from tensorflow.keras.preprocessing.text import Tokenizer\n",
        "\n",
        "def tokenize(x, encode_start_end = False):\n",
        "    \"\"\"\n",
        "    Tokenize x\n",
        "    :param x: List of sentences/strings to be tokenized\n",
        "    :param encode_start_end: if True, pad the start & end of sentence as separate tokens\n",
        "    :return: Tuple of (tokenized x data, tokenizer used to tokenize x)\n",
        "    \"\"\"\n",
        "    # A start and end token is added to the sentence in a way that \n",
        "    # the start and end tokens are not similar to any other tokens occuring in the dataset.\n",
        "    if encode_start_end:\n",
        "        x = [\"startofsentence \" + sentence + \" endofsentence\" for sentence in x]\n",
        "    tokenizer = Tokenizer()                         # Tokenizer instantiated\n",
        "    tokenizer.fit_on_texts(x)                        # \n",
        "    tokenized_x = tokenizer.texts_to_sequences(x)\n",
        "    \n",
        "    return tokenized_x, tokenizer"
      ]
    },
    {
      "cell_type": "markdown",
      "metadata": {
        "id": "Ij1ZKRi5YqdG"
      },
      "source": [
        "## 2.2. Padding  function"
      ]
    },
    {
      "cell_type": "code",
      "execution_count": 9,
      "metadata": {
        "id": "Qa0twe13YqdH"
      },
      "outputs": [],
      "source": [
        "from keras.preprocessing.sequence import pad_sequences\n",
        "\n",
        "def pad(x, length=None):\n",
        "    \"\"\"\n",
        "    Pad x\n",
        "    :param x: List of sequences.\n",
        "    :param length: Length to pad the sequence to.  If None, use length of longest sequence in x.\n",
        "    :return: Padded numpy array of sequences\n",
        "    \"\"\"\n",
        "    if length is None:\n",
        "        length = max([len(sentence) for sentence in x])\n",
        "    \n",
        "    # pad_sequences pads the input to the configurations mentioned such as length, \n",
        "    # position of padding, and removal(truncating) of characters if necessary.\n",
        "    padded_x = pad_sequences(x, maxlen = length, padding = 'post', truncating = 'post')\n",
        "    \n",
        "    return padded_x"
      ]
    },
    {
      "cell_type": "markdown",
      "metadata": {
        "id": "cFQRrr6BYqdH"
      },
      "source": [
        "## 2.3. Executing both functions\n",
        "Both these functions will come into play when we finally complete preprocessing of our data as shown"
      ]
    },
    {
      "cell_type": "code",
      "execution_count": 10,
      "metadata": {
        "id": "nb_N-iDpYqdH"
      },
      "outputs": [],
      "source": [
        "# Tokenization of english and french sentences, \n",
        "# where french has paddings of start and end tokens for RNN's performance.\n",
        "eng_tokenized, eng_tokenizer = tokenize(eng_sentences)\n",
        "fre_tokenized, fre_tokenizer = tokenize(fre_sentences, encode_start_end = True)\n",
        "\n",
        "# Padding and expanding dimensions of the inputs and outputs.\n",
        "eng_encoded = np.expand_dims(pad(eng_tokenized), axis=-1)\n",
        "fre_encoded = np.expand_dims(pad(fre_tokenized), axis=-1)\n",
        "\n",
        "# Recording the sizes of each vocabularies for further ease of usage.\n",
        "eng_vocab_size = len(eng_tokenizer.word_index)\n",
        "fre_vocab_size = len(fre_tokenizer.word_index)\n"
      ]
    },
    {
      "cell_type": "code",
      "source": [
        "# A sanity check and validation that evrything is as it is supposed to be...\n",
        "print(\"English vocabulary size:\\t\", eng_vocab_size) # 199\n",
        "print(\"French vocabulary size: \\t\", fre_vocab_size) # 346\n",
        "print()\n",
        "\n",
        "eng_seq_len = len(eng_encoded[0])\n",
        "fre_seq_len = len(fre_encoded[0])\n",
        "        \n",
        "print(\"Length of longest English sentence:\\t\", eng_seq_len) # 15\n",
        "print(\"Length of longest French sentence: \\t\", fre_seq_len) # 23\n",
        "print()\n",
        "\n",
        "print(\"Shape of English encoded tokens:\\t\", eng_encoded.shape)  # (137861, 15, 1)\n",
        "print(\"Shape of French encoded tokens: \\t\", fre_encoded.shape)  # (137861, 23, 1)"
      ],
      "metadata": {
        "colab": {
          "base_uri": "https://localhost:8080/",
          "height": 0
        },
        "id": "_ECBx_scnASr",
        "outputId": "5d023273-180d-4402-b796-5bcd446ba4e9"
      },
      "execution_count": 19,
      "outputs": [
        {
          "output_type": "stream",
          "name": "stdout",
          "text": [
            "English vocabulary size:\t 199\n",
            "French vocabulary size: \t 346\n",
            "\n",
            "Length of longest English sentence:\t 15\n",
            "Length of longest French sentence: \t 23\n",
            "\n",
            "Shape of English encoded tokens:\t (137861, 15, 1)\n",
            "Shape of French encoded tokens: \t (137861, 23, 1)\n"
          ]
        }
      ]
    },
    {
      "cell_type": "markdown",
      "metadata": {
        "id": "ZwaOdRUAYqdH"
      },
      "source": [
        "# 3. Build Seq2Seq Model & Train\n",
        "\n",
        "The translation model we will now build is an encoder-decoder RNN.\n",
        "\n",
        "It is made of:\n",
        "* an encoder that reads a variable length input sequence and \n",
        "* a decoder that predicts a variable length output sequence.\n"
      ]
    },
    {
      "cell_type": "markdown",
      "source": [
        "## 3.1. Training model\n"
      ],
      "metadata": {
        "id": "cZ7JQ4yi1fFN"
      }
    },
    {
      "cell_type": "markdown",
      "source": [
        "### 3.1.1. Define Encoder"
      ],
      "metadata": {
        "id": "Q1VpLuVh-FtX"
      }
    },
    {
      "cell_type": "code",
      "execution_count": 20,
      "metadata": {
        "id": "te75EqSgYqdH"
      },
      "outputs": [],
      "source": [
        "# Starting building the model using the LSTM unit for RNN's implementation.\n",
        "english_input = eng_encoded   # (137861, 15,)\n",
        "decoder_french_input = fre_encoded[:, :-1, :]\n",
        "decoder_french_target = fre_encoded[:, 1:, :]\n",
        "    \n",
        "\n",
        "input_seq_encoder = Input(shape = (None, ),\n",
        "                          name = \"encoder_input\")     # (batch_size, sentence_length, 1) \n",
        "\n",
        "embed_dim = 200\n",
        "embedded_seq_encoder = Embedding(input_dim = eng_vocab_size, \n",
        "                                 output_dim = embed_dim)(input_seq_encoder)\n",
        "\n",
        "encoder_lstm = LSTM(units = 256,             \n",
        "                    activation = 'relu',\n",
        "                    return_sequences = False,\n",
        "                    return_state = True,\n",
        "                    name = \"encoder_LSTM\")\n",
        "\n",
        "_, last_hidden_encoder, last_cell_encoder = encoder_lstm(embedded_seq_encoder)\n"
      ]
    },
    {
      "cell_type": "markdown",
      "source": [
        "### 3.1.2. Define Decoder\n",
        "The decoder input is defined as a sequence of French character one-hot encoded to binary vectors.\n",
        "\n",
        "The decoder LSTM layer will return both, the sequences and state. \n",
        "\n",
        "The hidden and cell states are ignored and only the output sequence of hidden states is used. \n",
        "\n",
        "The final hidden and cell state from **the encoder** is used to initialize the state of the decoder."
      ],
      "metadata": {
        "id": "2agwwb4U0q_b"
      }
    },
    {
      "cell_type": "code",
      "source": [
        "input_seq_decoder = Input(shape = (None, 1),\n",
        "                          name = \"decoder_input\")     # (batch_size, sentence_length, 1)\n",
        "\n",
        "# Our decoder will return full output sequences, and to return internal states as well. \n",
        "# We don't use the return states in the training model, but we will use them in inference.\n",
        "decoder_lstm = LSTM(units = 256,                          \n",
        "                    activation = 'relu',\n",
        "                    return_sequences = True,\n",
        "                    return_state = True,\n",
        "                    name = \"decoder_LSTM\")\n",
        "\n",
        "all_hidden_decoder, _, _ = decoder_lstm(input_seq_decoder, \n",
        "                                        initial_state = [last_hidden_encoder, last_cell_encoder])\n",
        "\n",
        "decoder_dense = Dense(fre_vocab_size,\n",
        "                      activation = 'softmax',\n",
        "                      name = \"decoder_dense\")\n",
        "logits = decoder_dense(all_hidden_decoder)\n",
        "\n",
        "\n"
      ],
      "metadata": {
        "id": "-0Pxd5-8nxyj"
      },
      "execution_count": 21,
      "outputs": []
    },
    {
      "cell_type": "markdown",
      "source": [
        "### 3.1.3. Define final model with appropriate encoded input layers, and output layers."
      ],
      "metadata": {
        "id": "yiCzWie0-avS"
      }
    },
    {
      "cell_type": "code",
      "source": [
        "final_rnn_model = Model(inputs = [input_seq_encoder, input_seq_decoder],\n",
        "                        outputs = logits)\n",
        "\n",
        "final_rnn_model.compile(loss = sparse_categorical_crossentropy,\n",
        "                        optimizer = Adam(lr = 0.002),\n",
        "                        metrics = ['accuracy'])\n",
        "\n"
      ],
      "metadata": {
        "id": "anxilYpmnzHx"
      },
      "execution_count": 22,
      "outputs": []
    },
    {
      "cell_type": "code",
      "execution_count": 23,
      "metadata": {
        "id": "-Ei-OtmdYqdI",
        "outputId": "5c06cb13-9202-4efc-a212-85878381d5bd",
        "colab": {
          "base_uri": "https://localhost:8080/",
          "height": 0
        }
      },
      "outputs": [
        {
          "output_type": "stream",
          "name": "stdout",
          "text": [
            "Model: \"model\"\n",
            "__________________________________________________________________________________________________\n",
            " Layer (type)                   Output Shape         Param #     Connected to                     \n",
            "==================================================================================================\n",
            " encoder_input (InputLayer)     [(None, None)]       0           []                               \n",
            "                                                                                                  \n",
            " embedding_1 (Embedding)        (None, None, 200)    39800       ['encoder_input[0][0]']          \n",
            "                                                                                                  \n",
            " decoder_input (InputLayer)     [(None, None, 1)]    0           []                               \n",
            "                                                                                                  \n",
            " encoder_LSTM (LSTM)            [(None, 256),        467968      ['embedding_1[0][0]']            \n",
            "                                 (None, 256),                                                     \n",
            "                                 (None, 256)]                                                     \n",
            "                                                                                                  \n",
            " decoder_LSTM (LSTM)            [(None, None, 256),  264192      ['decoder_input[0][0]',          \n",
            "                                 (None, 256),                     'encoder_LSTM[0][1]',           \n",
            "                                 (None, 256)]                     'encoder_LSTM[0][2]']           \n",
            "                                                                                                  \n",
            " decoder_dense (Dense)          (None, None, 346)    88922       ['decoder_LSTM[0][0]']           \n",
            "                                                                                                  \n",
            "==================================================================================================\n",
            "Total params: 860,882\n",
            "Trainable params: 860,882\n",
            "Non-trainable params: 0\n",
            "__________________________________________________________________________________________________\n"
          ]
        }
      ],
      "source": [
        "final_rnn_model.summary()"
      ]
    },
    {
      "cell_type": "markdown",
      "source": [
        "### 3.1.4. Train(Fit) the model"
      ],
      "metadata": {
        "id": "7aRi_0iY-j3e"
      }
    },
    {
      "cell_type": "code",
      "source": [
        "final_rnn_model.fit([english_input, decoder_french_input],\n",
        "                    decoder_french_target,\n",
        "                    batch_size = 1024,\n",
        "                    epochs = 16,\n",
        "                    validation_split = 0.2)"
      ],
      "metadata": {
        "colab": {
          "base_uri": "https://localhost:8080/",
          "height": 0
        },
        "id": "Z9Ro_j6XQkK7",
        "outputId": "7d6b99d6-7d5c-4888-8850-de53404925e4"
      },
      "execution_count": 24,
      "outputs": [
        {
          "output_type": "stream",
          "name": "stdout",
          "text": [
            "Epoch 1/16\n",
            "108/108 [==============================] - 14s 86ms/step - loss: 1.5939 - accuracy: 0.6283 - val_loss: nan - val_accuracy: 0.7573\n",
            "Epoch 2/16\n",
            "108/108 [==============================] - 9s 84ms/step - loss: 0.6312 - accuracy: 0.7898 - val_loss: nan - val_accuracy: 0.8218\n",
            "Epoch 3/16\n",
            "108/108 [==============================] - 9s 85ms/step - loss: 0.4534 - accuracy: 0.8438 - val_loss: nan - val_accuracy: 0.8673\n",
            "Epoch 4/16\n",
            "108/108 [==============================] - 9s 85ms/step - loss: 0.6158 - accuracy: 0.8262 - val_loss: nan - val_accuracy: 0.6219\n",
            "Epoch 5/16\n",
            "108/108 [==============================] - 9s 86ms/step - loss: 0.6763 - accuracy: 0.8005 - val_loss: nan - val_accuracy: 0.8653\n",
            "Epoch 6/16\n",
            "108/108 [==============================] - 9s 84ms/step - loss: 0.3330 - accuracy: 0.8860 - val_loss: nan - val_accuracy: 0.9006\n",
            "Epoch 7/16\n",
            "108/108 [==============================] - 9s 85ms/step - loss: 0.2343 - accuracy: 0.9191 - val_loss: nan - val_accuracy: 0.9341\n",
            "Epoch 8/16\n",
            "108/108 [==============================] - 9s 86ms/step - loss: 0.1609 - accuracy: 0.9463 - val_loss: nan - val_accuracy: 0.9596\n",
            "Epoch 9/16\n",
            "108/108 [==============================] - 10s 89ms/step - loss: 0.1102 - accuracy: 0.9648 - val_loss: nan - val_accuracy: 0.9728\n",
            "Epoch 10/16\n",
            "108/108 [==============================] - 9s 86ms/step - loss: 0.0756 - accuracy: 0.9766 - val_loss: nan - val_accuracy: 0.9770\n",
            "Epoch 11/16\n",
            "108/108 [==============================] - 9s 84ms/step - loss: 0.0571 - accuracy: 0.9825 - val_loss: nan - val_accuracy: 0.9834\n",
            "Epoch 12/16\n",
            "108/108 [==============================] - 9s 84ms/step - loss: 0.0464 - accuracy: 0.9857 - val_loss: nan - val_accuracy: 0.9862\n",
            "Epoch 13/16\n",
            "108/108 [==============================] - 9s 85ms/step - loss: 0.0850 - accuracy: 0.9749 - val_loss: nan - val_accuracy: 0.9779\n",
            "Epoch 14/16\n",
            "108/108 [==============================] - 9s 85ms/step - loss: 0.0447 - accuracy: 0.9868 - val_loss: nan - val_accuracy: 0.9885\n",
            "Epoch 15/16\n",
            "108/108 [==============================] - 9s 85ms/step - loss: 0.0328 - accuracy: 0.9900 - val_loss: nan - val_accuracy: 0.9894\n",
            "Epoch 16/16\n",
            "108/108 [==============================] - 9s 85ms/step - loss: 0.0287 - accuracy: 0.9912 - val_loss: nan - val_accuracy: 0.9902\n"
          ]
        },
        {
          "output_type": "execute_result",
          "data": {
            "text/plain": [
              "<keras.callbacks.History at 0x7f7210acd090>"
            ]
          },
          "metadata": {},
          "execution_count": 24
        }
      ]
    },
    {
      "cell_type": "markdown",
      "source": [
        "### 3.1.5. Visualize the model"
      ],
      "metadata": {
        "id": "RTOCwkfD-sLt"
      }
    },
    {
      "cell_type": "code",
      "source": [
        "# This uses a Keras visualization tool to summarize the model and should\n",
        "# confirm what you reviewed in the table above.\n",
        "from IPython.display import Image\n",
        "from keras.utils.vis_utils import plot_model\n",
        "plot_model(final_rnn_model, show_shapes=True, show_layer_names=True)\n",
        "\n",
        "# Image will be saved under the name 'model.png'\n",
        "Image('model.png')"
      ],
      "metadata": {
        "colab": {
          "base_uri": "https://localhost:8080/",
          "height": 533
        },
        "id": "ettnC7whVPKf",
        "outputId": "e3d68ee2-696e-479d-f1be-ee2622811263"
      },
      "execution_count": 25,
      "outputs": [
        {
          "output_type": "execute_result",
          "data": {
            "text/plain": [
              "<IPython.core.display.Image object>"
            ],
            "image/png": "[encoded data removed]"
          },
          "metadata": {},
          "execution_count": 25
        }
      ]
    },
    {
      "cell_type": "markdown",
      "metadata": {
        "id": "GfrDzm_9YqdI"
      },
      "source": [
        "## 3.2. Inference model\n",
        "New inference models are required for making predictions, these are:\n",
        "* a model for encoding English input sequences of characters and \n",
        "* a model that takes the French character sequence generated and the encoding as input and predicts the next sequence character.\n"
      ]
    },
    {
      "cell_type": "markdown",
      "source": [
        "### 3.2.1. Encoder Model for inference\n",
        "The encoder model takes the input layer from the encoder in the trained model and produces the hidden and cell states as shown below."
      ],
      "metadata": {
        "id": "2uEGPcpt1joT"
      }
    },
    {
      "cell_type": "code",
      "execution_count": 26,
      "metadata": {
        "id": "XV1fZFCeYqdI"
      },
      "outputs": [],
      "source": [
        "last_states_encoder = [last_hidden_encoder, last_cell_encoder]\n",
        "inference_encoder_model = Model(inputs = input_seq_encoder, \n",
        "                                outputs = last_states_encoder)"
      ]
    },
    {
      "cell_type": "code",
      "source": [
        "plot_model(inference_encoder_model, show_shapes=True, show_layer_names=True, to_file='encoder_model.png')\n",
        "# Image will be saved under the name 'model.png'\n",
        "Image('encoder_model.png')\n"
      ],
      "metadata": {
        "colab": {
          "base_uri": "https://localhost:8080/",
          "height": 312
        },
        "id": "bUkwmjz31V0b",
        "outputId": "d6d82ec9-f1a6-4ce7-ebd7-303e9d117f49"
      },
      "execution_count": 27,
      "outputs": [
        {
          "output_type": "execute_result",
          "data": {
            "text/plain": [
              "<IPython.core.display.Image object>"
            ],
            "image/png": "[encoded data removed]"
          },
          "metadata": {},
          "execution_count": 27
        }
      ]
    },
    {
      "cell_type": "markdown",
      "metadata": {
        "id": "xNLLgzfCYqdI"
      },
      "source": [
        "### 3.2.2. Decoder Model for inference\n",
        "The decoder needs hidden state and cell state from the trained encoder as the initial states of the new encoder model defined above. \n",
        "\n",
        "Because the decoder is separate, these states will be given as inputs to the model, and must be defined as inputs."
      ]
    },
    {
      "cell_type": "code",
      "execution_count": 28,
      "metadata": {
        "id": "qVvOXLeTYqdI"
      },
      "outputs": [],
      "source": [
        "decoder_initial_state = [Input(shape = (256,)), Input(shape = (256,))]  \n",
        "all_hidden_decoder, last_hidden_decoder, last_cell_decoder = decoder_lstm(input_seq_decoder, \n",
        "                                                                          initial_state = decoder_initial_state)\n",
        "logits = decoder_dense(all_hidden_decoder)\n",
        "inference_decoder_model = Model(inputs  = [input_seq_decoder] + decoder_initial_state, \n",
        "                                outputs = [logits, \n",
        "                                          last_hidden_decoder, \n",
        "                                          last_cell_decoder])"
      ]
    },
    {
      "cell_type": "code",
      "source": [
        "plot_model(inference_decoder_model, show_shapes=True, show_layer_names=True, to_file='decoder_model.png')\n",
        "# Image will be saved under the name 'model.png'\n",
        "Image('decoder_model.png')"
      ],
      "metadata": {
        "colab": {
          "base_uri": "https://localhost:8080/",
          "height": 282
        },
        "id": "hxO7Cgn22Gpz",
        "outputId": "02f8021f-461c-404c-908e-7579dbe2d355"
      },
      "execution_count": 29,
      "outputs": [
        {
          "output_type": "execute_result",
          "data": {
            "text/plain": [
              "<IPython.core.display.Image object>"
            ],
            "image/png": "[encoded data removed]"
          },
          "metadata": {},
          "execution_count": 29
        }
      ]
    },
    {
      "cell_type": "markdown",
      "metadata": {
        "id": "2szpqmrAYqdI"
      },
      "source": [
        "### 3.2.3. Decode Sequence Function\n",
        "\n",
        "Both the **encoder and decoder will be called recursively** for each character that is to be generated in the translated sequence.\n",
        "\n",
        "On the first call, the **hidden and cell states from the encoder** will be used to **initialize the decoder LSTM layer**, provided as input to the model directly.\n",
        "\n",
        "On subsequent **recursive calls to the decoder**, the last hidden and cell state must be provided to the model. These state values are already within the decoder; however, we need to **re-initialize the state on each call** in order to take the final states from the encoder on the first call.\n",
        "\n"
      ]
    },
    {
      "cell_type": "code",
      "execution_count": 30,
      "metadata": {
        "id": "eVdj3ghEYqdI"
      },
      "outputs": [],
      "source": [
        "target_id_to_word = {idx:word for word, idx in fre_tokenizer.word_index.items()}\n",
        "\n",
        "def decode_sequence(input_seq):\n",
        "    \"\"\"\n",
        "    Gets predictions using the final model defined above\n",
        "    :param input_seq: (list) encoded english sentence (list of word ids)\n",
        "    returns : translated French sentence\n",
        "    \"\"\"\n",
        "    decoder_input = inference_encoder_model.predict(input_seq)\n",
        "\n",
        "    # Initialize decoder input as a length 1 sentence containing \"startofsentence\",\n",
        "    # --> feeding the start token as the first predicted word\n",
        "    prev_word = np.zeros((1, 1, 1))\n",
        "    prev_word[0, 0, 0] = fre_tokenizer.word_index[\"startofsentence\"]\n",
        "\n",
        "    stop_condition = False\n",
        "    translation = []\n",
        "    while not stop_condition:\n",
        "        # 1. predict the next word using decoder model\n",
        "        logits, last_h, last_c = inference_decoder_model.predict([prev_word] + decoder_input)\n",
        "        \n",
        "        # 2. Update prev_word with the predicted word\n",
        "        predicted_id = np.argmax(logits[0, 0, :])\n",
        "        predicted_word = target_id_to_word[predicted_id]\n",
        "        translation.append(predicted_word)\n",
        "\n",
        "        # 3. Enable End Condition: (1) if predicted word is \"endofsentence\" OR\n",
        "        #                          (2) if translated sentence reached maximum sentence length\n",
        "        if (predicted_word == 'endofsentence' or len(translation) > decoder_french_target.shape[1]):\n",
        "            stop_condition = True\n",
        "\n",
        "        # 4. Update prev_word with the predicted word\n",
        "        prev_word[0, 0, 0] = predicted_id\n",
        "\n",
        "        # 5. Update initial_states with the previously predicted word's encoder output\n",
        "        decoder_input = [last_h, last_c]\n",
        "\n",
        "    return \" \".join(translation).replace('endofsentence', '')"
      ]
    },
    {
      "cell_type": "markdown",
      "metadata": {
        "id": "NPz9QhmQYqdJ"
      },
      "source": [
        "## 3.3. Predictions\n",
        "\n",
        "For making predictions, we use the `decode_sequence` method created above and call it over our **encoded english sequences**\n",
        "\n",
        "The results obtained will be compared with the **corresponding french translations** in the downloaded file and the **machine-translated french sequences**."
      ]
    },
    {
      "cell_type": "code",
      "execution_count": 31,
      "metadata": {
        "id": "KXnY5P_aYqdJ",
        "outputId": "c5df0acb-3e1e-4c83-ebde-c8ae86f3a207",
        "colab": {
          "base_uri": "https://localhost:8080/",
          "height": 0
        }
      },
      "outputs": [
        {
          "output_type": "stream",
          "name": "stdout",
          "text": [
            "English Sentence            :  i plan to visit france in spring .\n",
            "Predicted French Translation:  je prévois de visiter la france au printemps \n",
            "Correct French Translation  :  je prévois de visiter la france au printemps .\n",
            "\n",
            "English Sentence            :  she likes grapes , apples , and grapefruit.\n",
            "Predicted French Translation:  elle aime les raisins les pommes et le pamplemousse \n",
            "Correct French Translation  :  elle aime les raisins , les pommes et le pamplemousse .\n",
            "\n",
            "English Sentence            :  my most loved animal was that bird .\n",
            "Predicted French Translation:  mon animal le plus aimé était cet oiseau \n",
            "Correct French Translation  :  mon animal le plus aimé était cet oiseau .\n",
            "\n",
            "English Sentence            :  france is pleasant during july , but it is usually dry in december .\n",
            "Predicted French Translation:  la france est agréable en juillet mais il est généralement sec en décembre \n",
            "Correct French Translation  :  la france est agréable en juillet , mais il est généralement sec en décembre .\n",
            "\n"
          ]
        }
      ],
      "source": [
        "# TODO: Print prediction(s)\n",
        "for i in [293, 296, 393, 418]:\n",
        "    english_seq = eng_encoded[i].reshape(1, eng_encoded.shape[1])\n",
        "    french_translation = decode_sequence(english_seq)\n",
        "    \n",
        "    print(\"English Sentence            : \", eng_sentences[i])\n",
        "    print(\"Predicted French Translation: \", french_translation)\n",
        "    print(\"Correct French Translation  : \", fre_sentences[i])\n",
        "    print()"
      ]
    },
    {
      "cell_type": "markdown",
      "metadata": {
        "id": "82jiQWq9YqdJ"
      },
      "source": [
        "# Conclusion\n",
        "\n",
        "This tutorial lines out how to define an encoder-decoder sequence-to-sequence prediction model for translation, as described by the author of the Keras deep learning library.\n",
        "\n",
        "The process included:\n",
        "* The neural machine translation example provided with Keras and described on the Keras blog.\n",
        "* How to correctly define an encoder-decoder LSTM for training a neural machine translation model.\n",
        "* How to correctly define an inference model for using a trained encoder-decoder model to translate new sequences.\n",
        "\n",
        "The results produced by the model seems like perfect translations for the standarad of the simple dataset with limited vocabulary!"
      ]
    },
    {
      "cell_type": "markdown",
      "source": [
        "# References\n",
        "\n",
        "* https://nextjournal.com/gkoehler/machine-translation-seq2seq-cpu\n",
        "* https://machinelearningmastery.com/define-encoder-decoder-sequence-sequence-model-neural-machine-translation-keras/\n",
        "* https://blog.keras.io/a-ten-minute-introduction-to-sequence-to-sequence-learning-in-keras.html\n",
        "\n",
        "Adapted from github Repo:\n",
        "https://github.com/lukysummer/Machine-Translation-Seq2Seq-Keras\n"
      ],
      "metadata": {
        "id": "Edwhwxj4FMqa"
      }
    }
  ],
  "metadata": {
    "kernelspec": {
      "display_name": "Python 3 (ipykernel)",
      "language": "python",
      "name": "python3"
    },
    "language_info": {
      "codemirror_mode": {
        "name": "ipython",
        "version": 3
      },
      "file_extension": ".py",
      "mimetype": "text/x-python",
      "name": "python",
      "nbconvert_exporter": "python",
      "pygments_lexer": "ipython3",
      "version": "3.8.9"
    },
    "colab": {
      "name": "machine_translation_seq2seq.ipynb",
      "provenance": [],
      "collapsed_sections": []
    },
    "accelerator": "GPU"
  },
  "nbformat": 4,
  "nbformat_minor": 0
}