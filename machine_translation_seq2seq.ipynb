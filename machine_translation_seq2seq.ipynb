{
  "cells": [
    {
      "cell_type": "markdown",
      "metadata": {
        "collapsed": true,
        "id": "15SbBGxLYqdC"
      },
      "source": [
        "# Machine Translation: seq2seq model"
      ]
    },
    {
      "cell_type": "code",
      "execution_count": null,
      "metadata": {
        "id": "Scf25KIfYqdD",
        "colab": {
          "base_uri": "https://localhost:8080/"
        },
        "outputId": "203a0356-2a57-4486-d85b-5b20968352db"
      },
      "outputs": [
        {
          "output_type": "stream",
          "name": "stdout",
          "text": [
            "The autoreload extension is already loaded. To reload it, use:\n",
            "  %reload_ext autoreload\n"
          ]
        }
      ],
      "source": [
        "%load_ext autoreload\n",
        "%autoreload 1"
      ]
    },
    {
      "cell_type": "code",
      "execution_count": null,
      "metadata": {
        "id": "g1AA5WPyYqdE"
      },
      "outputs": [],
      "source": [
        "import collections\n",
        "import numpy as np\n",
        "\n",
        "# Making relevant import statements for layers of the model.\n",
        "from tensorflow.keras.layers import Input, Dense, Bidirectional, LSTM, Embedding\n",
        "from tensorflow.keras.models import Model\n",
        "\n",
        "# Model optimizer and loss parameters\n",
        "from tensorflow.keras.optimizers import Adam\n",
        "from tensorflow.keras.losses import sparse_categorical_crossentropy\n",
        "\n",
        "# Suppressing warnings\n",
        "import warnings\n",
        "warnings.filterwarnings(\"ignore\")"
      ]
    },
    {
      "cell_type": "markdown",
      "metadata": {
        "id": "Fa17G-U7YqdE"
      },
      "source": [
        "Verify access to the GPU"
      ]
    },
    {
      "cell_type": "code",
      "execution_count": null,
      "metadata": {
        "id": "Yxl6zkclYqdF"
      },
      "outputs": [],
      "source": [
        "from tensorflow.python.client import device_lib\n",
        "print(device_lib.list_local_devices())"
      ]
    },
    {
      "cell_type": "markdown",
      "metadata": {
        "id": "GNcleTOSYqdF"
      },
      "source": [
        "# 1. Load Data\n",
        "The dataset used for this task contains small vocabulary (200 ~ 300 words). "
      ]
    },
    {
      "cell_type": "code",
      "source": [
        "import os \n",
        "path = os.getcwd()"
      ],
      "metadata": {
        "id": "gAK1gpICTs4Z"
      },
      "execution_count": null,
      "outputs": []
    },
    {
      "cell_type": "code",
      "execution_count": null,
      "metadata": {
        "colab": {
          "base_uri": "https://localhost:8080/"
        },
        "id": "WCOAyifKYqdF",
        "outputId": "43011a48-c41f-4038-cdac-12026c0a8a17"
      },
      "outputs": [
        {
          "output_type": "stream",
          "name": "stdout",
          "text": [
            "Dataset Loaded\n"
          ]
        }
      ],
      "source": [
        "with open(os.path.join(path, 'data/small_vocab_en', 'r')) as f:\n",
        "    eng_sentences = f.read().split('\\n')\n",
        "    \n",
        "with open(os.path.join(path, 'data/small_vocab_fr', 'r')) as f:\n",
        "    fre_sentences = f.read().split('\\n')\n",
        "\n",
        "print('Dataset Loaded')"
      ]
    },
    {
      "cell_type": "code",
      "execution_count": null,
      "metadata": {
        "colab": {
          "base_uri": "https://localhost:8080/"
        },
        "id": "lvK15FE6YqdF",
        "outputId": "a3b322de-c45f-4d95-9971-ebbe677518e0"
      },
      "outputs": [
        {
          "output_type": "stream",
          "name": "stdout",
          "text": [
            "English Sentence 1 :  new jersey is sometimes quiet during autumn , and it is snowy in april .\n",
            "French Sentence 1  :  new jersey est parfois calme pendant l' automne , et il est neigeux en avril .\n",
            "\n",
            "English Sentence 2 :  the united states is usually chilly during july , and it is usually freezing in november .\n",
            "French Sentence 2  :  les états-unis est généralement froid en juillet , et il gèle habituellement en novembre .\n",
            "\n"
          ]
        }
      ],
      "source": [
        "for sample_i in range(2):\n",
        "    print('English Sentence {} :  {}'.format(sample_i+1, eng_sentences[sample_i]))\n",
        "    print('French Sentence {}  :  {}\\n'.format(sample_i+1, fre_sentences[sample_i]))"
      ]
    },
    {
      "cell_type": "markdown",
      "metadata": {
        "id": "l2eretDKYqdG"
      },
      "source": [
        "# 2. Pre-process text\n"
      ]
    },
    {
      "cell_type": "markdown",
      "source": [
        "## 2.1. Tokenize function"
      ],
      "metadata": {
        "id": "CPCHe50m2A00"
      }
    },
    {
      "cell_type": "code",
      "execution_count": null,
      "metadata": {
        "id": "Vs4lm8DmYqdG"
      },
      "outputs": [],
      "source": [
        "from tensorflow.keras.preprocessing.text import Tokenizer\n",
        "\n",
        "def tokenize(x, encode_start_end = False):\n",
        "    \"\"\"\n",
        "    Tokenize x\n",
        "    :param x: List of sentences/strings to be tokenized\n",
        "    :param encode_start_end: if True, pad the start & end of sentence as separate tokens\n",
        "    :return: Tuple of (tokenized x data, tokenizer used to tokenize x)\n",
        "    \"\"\"\n",
        "    # A start and end token is added to the sentence in a way that \n",
        "    # the start and end tokens are not similar to any other tokens occuring in the dataset.\n",
        "    if encode_start_end:\n",
        "        x = [\"startofsentence \" + sentence + \" endofsentence\" for sentence in x]\n",
        "    tokenizer = Tokenizer()                         # Tokenizer instantiated\n",
        "    tokenizer.fit_on_texts(x)                        # \n",
        "    tokenized_x = tokenizer.texts_to_sequences(x)\n",
        "    \n",
        "    return tokenized_x, tokenizer"
      ]
    },
    {
      "cell_type": "markdown",
      "metadata": {
        "id": "Ij1ZKRi5YqdG"
      },
      "source": [
        "## 2.2. Padding  function"
      ]
    },
    {
      "cell_type": "code",
      "execution_count": null,
      "metadata": {
        "id": "Qa0twe13YqdH"
      },
      "outputs": [],
      "source": [
        "from keras.preprocessing.sequence import pad_sequences\n",
        "\n",
        "def pad(x, length=None):\n",
        "    \"\"\"\n",
        "    Pad x\n",
        "    :param x: List of sequences.\n",
        "    :param length: Length to pad the sequence to.  If None, use length of longest sequence in x.\n",
        "    :return: Padded numpy array of sequences\n",
        "    \"\"\"\n",
        "    if length is None:\n",
        "        length = max([len(sentence) for sentence in x])\n",
        "    \n",
        "    # pad_sequences pads the input to the configurations mentioned such as length, \n",
        "    # position of padding, and removal(truncating) of characters if necessary.\n",
        "    padded_x = pad_sequences(x, maxlen = length, padding = 'post', truncating = 'post')\n",
        "    \n",
        "    return padded_x"
      ]
    },
    {
      "cell_type": "markdown",
      "metadata": {
        "id": "cFQRrr6BYqdH"
      },
      "source": [
        "## 2.3. Execute both functions"
      ]
    },
    {
      "cell_type": "code",
      "execution_count": null,
      "metadata": {
        "colab": {
          "base_uri": "https://localhost:8080/"
        },
        "id": "nb_N-iDpYqdH",
        "outputId": "b014928c-3b33-45c6-db76-9b969849f20b"
      },
      "outputs": [
        {
          "output_type": "stream",
          "name": "stdout",
          "text": [
            "English vocabulary size:  199\n",
            "French vocabulary size:  346\n",
            "\n",
            "Length of longest English sentence:  15\n",
            "Length of longest French sentence:  23\n"
          ]
        }
      ],
      "source": [
        "# Tokenization of english and french sentences, \n",
        "# where french has padded start and end tokens for RNN's performance.\n",
        "eng_tokenized, eng_tokenizer = tokenize(eng_sentences)\n",
        "fre_tokenized, fre_tokenizer = tokenize(fre_sentences, encode_start_end = True)\n",
        "\n",
        "# Padding and expanding dimensions of the inputs and outputs.\n",
        "eng_encoded = np.expand_dims(pad(eng_tokenized), axis=-1)\n",
        "fre_encoded = np.expand_dims(pad(fre_tokenized), axis=-1)\n",
        "\n",
        "# Recording the sizes of each vocabularies for further ease of usage.\n",
        "eng_vocab_size = len(eng_tokenizer.word_index)\n",
        "fre_vocab_size = len(fre_tokenizer.word_index)\n",
        "\n",
        "print(\"English vocabulary size: \", eng_vocab_size)\n",
        "print(\"French vocabulary size: \", fre_vocab_size)\n",
        "print()\n",
        "\n",
        "eng_seq_len = len(eng_encoded[0])\n",
        "fre_seq_len = len(fre_encoded[0])\n",
        "        \n",
        "print(\"Length of longest English sentence: \", eng_seq_len)\n",
        "print(\"Length of longest French sentence: \", fre_seq_len)\n"
      ]
    },
    {
      "cell_type": "code",
      "source": [
        "print(\"Shape of English encoded tokens: \", eng_encoded.shape)\n",
        "print(\"Shape of French encoded tokens: \", fre_encoded.shape)"
      ],
      "metadata": {
        "colab": {
          "base_uri": "https://localhost:8080/"
        },
        "id": "RwaLHz9MM2CG",
        "outputId": "e0870b0a-f2f7-408a-b89e-ecd5e59b2d0b"
      },
      "execution_count": null,
      "outputs": [
        {
          "output_type": "stream",
          "name": "stdout",
          "text": [
            "Shape of English encoded tokens:  (137861, 15, 1)\n",
            "Shape of French encoded tokens:  (137861, 23, 1)\n"
          ]
        }
      ]
    },
    {
      "cell_type": "markdown",
      "metadata": {
        "id": "ZwaOdRUAYqdH"
      },
      "source": [
        "# 3. Build Seq2Seq Model & Train\n"
      ]
    },
    {
      "cell_type": "markdown",
      "source": [
        "## 3.1. Training model\n"
      ],
      "metadata": {
        "id": "cZ7JQ4yi1fFN"
      }
    },
    {
      "cell_type": "code",
      "execution_count": null,
      "metadata": {
        "colab": {
          "base_uri": "https://localhost:8080/"
        },
        "id": "te75EqSgYqdH",
        "outputId": "14c9a251-04f2-4b23-eb8b-a98406e47438"
      },
      "outputs": [
        {
          "output_type": "stream",
          "name": "stdout",
          "text": [
            "WARNING:tensorflow:Layer encoder_LSTM will not use cuDNN kernels since it doesn't meet the criteria. It will use a generic GPU kernel as fallback when running on GPU.\n",
            "WARNING:tensorflow:Layer decoder_LSTM will not use cuDNN kernels since it doesn't meet the criteria. It will use a generic GPU kernel as fallback when running on GPU.\n"
          ]
        }
      ],
      "source": [
        "# Starting building the model by importing the LSTM unit for RNN's implementation\n",
        "from keras.layers import LSTM\n",
        "\n",
        "english_input = eng_encoded   # (137861, 15,)\n",
        "\n",
        "# \n",
        "decoder_french_input = fre_encoded[:, :-1, :]\n",
        "decoder_french_target = fre_encoded[:, 1:, :]\n",
        "    \n",
        "# 1. Define Encoder\n",
        "input_seq_encoder = Input(shape = (None, ),\n",
        "                          name = \"encoder_input\")     # (batch_size, sentence_length, 1) \n",
        "\n",
        "embed_dim = 200\n",
        "embedded_seq_encoder = Embedding(input_dim = eng_vocab_size, \n",
        "                                 output_dim = embed_dim)(input_seq_encoder)\n",
        "\n",
        "encoder_lstm = LSTM(units = 256,             \n",
        "                    activation = 'relu',\n",
        "                    return_sequences = False,\n",
        "                    return_state = True,\n",
        "                    name = \"encoder_LSTM\")\n",
        "\n",
        "_, last_hidden_encoder, last_cell_encoder = encoder_lstm(embedded_seq_encoder)\n",
        "\n",
        "\n",
        "# 2. Define Decoder\n",
        "input_seq_decoder = Input(shape = (None, 1),\n",
        "                          name = \"decoder_input\")     # (batch_size, sentence_length, 1)\n",
        "\n",
        "decoder_lstm = LSTM(units = 256,                          \n",
        "                    activation = 'relu',\n",
        "                    return_sequences = True,\n",
        "                    return_state = True,\n",
        "                    name = \"decoder_LSTM\")\n",
        "\n",
        "all_hidden_decoder, _, _ = decoder_lstm(input_seq_decoder, \n",
        "                                        initial_state = [last_hidden_encoder, last_cell_encoder])\n",
        "\n",
        "decoder_dense = Dense(fre_vocab_size,   # NOT TIMEDISTRIBUTED (NOT RECURSIVE)\n",
        "                      activation = 'softmax',\n",
        "                      name = \"decoder_dense\")\n",
        "logits = decoder_dense(all_hidden_decoder)\n",
        "\n",
        "\n",
        "# 3. Define Model with appropriate endcoded input layers and output layers.\n",
        "final_rnn_model = Model(inputs = [input_seq_encoder, input_seq_decoder],\n",
        "                        outputs = logits)\n",
        "\n",
        "final_rnn_model.compile(loss = sparse_categorical_crossentropy,\n",
        "                        optimizer = Adam(lr = 0.002),\n",
        "                        metrics = ['accuracy'])\n",
        "\n"
      ]
    },
    {
      "cell_type": "code",
      "execution_count": null,
      "metadata": {
        "id": "-Ei-OtmdYqdI",
        "outputId": "ae209241-2c67-45f5-d70f-6cc5dea56bd5",
        "colab": {
          "base_uri": "https://localhost:8080/"
        }
      },
      "outputs": [
        {
          "output_type": "stream",
          "name": "stdout",
          "text": [
            "Model: \"model\"\n",
            "__________________________________________________________________________________________________\n",
            " Layer (type)                   Output Shape         Param #     Connected to                     \n",
            "==================================================================================================\n",
            " encoder_input (InputLayer)     [(None, None)]       0           []                               \n",
            "                                                                                                  \n",
            " embedding (Embedding)          (None, None, 200)    39800       ['encoder_input[0][0]']          \n",
            "                                                                                                  \n",
            " decoder_input (InputLayer)     [(None, None, 1)]    0           []                               \n",
            "                                                                                                  \n",
            " encoder_LSTM (LSTM)            [(None, 256),        467968      ['embedding[0][0]']              \n",
            "                                 (None, 256),                                                     \n",
            "                                 (None, 256)]                                                     \n",
            "                                                                                                  \n",
            " decoder_LSTM (LSTM)            [(None, None, 256),  264192      ['decoder_input[0][0]',          \n",
            "                                 (None, 256),                     'encoder_LSTM[0][1]',           \n",
            "                                 (None, 256)]                     'encoder_LSTM[0][2]']           \n",
            "                                                                                                  \n",
            " decoder_dense (Dense)          (None, None, 346)    88922       ['decoder_LSTM[0][0]']           \n",
            "                                                                                                  \n",
            "==================================================================================================\n",
            "Total params: 860,882\n",
            "Trainable params: 860,882\n",
            "Non-trainable params: 0\n",
            "__________________________________________________________________________________________________\n"
          ]
        }
      ],
      "source": [
        "final_rnn_model.summary()"
      ]
    },
    {
      "cell_type": "code",
      "source": [
        "# 4. Fit the Model\n",
        "final_rnn_model.fit([english_input, decoder_french_input],\n",
        "                    decoder_french_target,\n",
        "                    batch_size = 1024,\n",
        "                    epochs = 16,\n",
        "                    validation_split = 0.2)"
      ],
      "metadata": {
        "colab": {
          "base_uri": "https://localhost:8080/"
        },
        "id": "Z9Ro_j6XQkK7",
        "outputId": "b7540e76-d8c0-46ad-bfbc-84b7a7bc6224"
      },
      "execution_count": null,
      "outputs": [
        {
          "output_type": "stream",
          "name": "stdout",
          "text": [
            "Epoch 1/16\n",
            "108/108 [==============================] - 25s 178ms/step - loss: 1.7328 - accuracy: 0.6063 - val_loss: nan - val_accuracy: 0.7367\n",
            "Epoch 2/16\n",
            "108/108 [==============================] - 21s 199ms/step - loss: 0.6562 - accuracy: 0.7824 - val_loss: nan - val_accuracy: 0.8153\n",
            "Epoch 3/16\n",
            "108/108 [==============================] - 18s 169ms/step - loss: 0.4674 - accuracy: 0.8378 - val_loss: nan - val_accuracy: 0.8440\n",
            "Epoch 4/16\n",
            "108/108 [==============================] - 18s 169ms/step - loss: 0.3373 - accuracy: 0.8814 - val_loss: nan - val_accuracy: 0.8953\n",
            "Epoch 5/16\n",
            "108/108 [==============================] - 18s 169ms/step - loss: 0.2142 - accuracy: 0.9259 - val_loss: nan - val_accuracy: 0.9430\n",
            "Epoch 6/16\n",
            "108/108 [==============================] - 18s 170ms/step - loss: 0.1134 - accuracy: 0.9622 - val_loss: nan - val_accuracy: 0.9764\n",
            "Epoch 7/16\n",
            "108/108 [==============================] - 19s 174ms/step - loss: 0.1143 - accuracy: 0.9653 - val_loss: nan - val_accuracy: 0.9834\n",
            "Epoch 8/16\n",
            "108/108 [==============================] - 18s 169ms/step - loss: 0.0422 - accuracy: 0.9868 - val_loss: nan - val_accuracy: 0.9876\n",
            "Epoch 9/16\n",
            "108/108 [==============================] - 18s 170ms/step - loss: 0.0322 - accuracy: 0.9896 - val_loss: nan - val_accuracy: 0.9891\n",
            "Epoch 10/16\n",
            "108/108 [==============================] - 18s 170ms/step - loss: 0.0267 - accuracy: 0.9914 - val_loss: nan - val_accuracy: 0.9908\n",
            "Epoch 11/16\n",
            "108/108 [==============================] - 18s 170ms/step - loss: 0.0230 - accuracy: 0.9925 - val_loss: nan - val_accuracy: 0.9914\n",
            "Epoch 12/16\n",
            "108/108 [==============================] - 18s 170ms/step - loss: 0.0198 - accuracy: 0.9935 - val_loss: nan - val_accuracy: 0.9923\n",
            "Epoch 13/16\n",
            "108/108 [==============================] - 18s 168ms/step - loss: 0.0179 - accuracy: 0.9941 - val_loss: nan - val_accuracy: 0.9923\n",
            "Epoch 14/16\n",
            "108/108 [==============================] - 18s 168ms/step - loss: 0.0162 - accuracy: 0.9947 - val_loss: nan - val_accuracy: 0.9936\n",
            "Epoch 15/16\n",
            "108/108 [==============================] - 19s 172ms/step - loss: 0.0148 - accuracy: 0.9952 - val_loss: nan - val_accuracy: 0.9939\n",
            "Epoch 16/16\n",
            "108/108 [==============================] - 18s 171ms/step - loss: 0.0156 - accuracy: 0.9948 - val_loss: nan - val_accuracy: 0.9940\n"
          ]
        },
        {
          "output_type": "execute_result",
          "data": {
            "text/plain": [
              "<keras.callbacks.History at 0x7f03410e6510>"
            ]
          },
          "metadata": {},
          "execution_count": 28
        }
      ]
    },
    {
      "cell_type": "code",
      "source": [
        "# This uses a Keras visualization tool to summarize the model and should\n",
        "# confirm what you reviewed in the table above.\n",
        "from IPython.display import Image\n",
        "from keras.utils.vis_utils import plot_model\n",
        "plot_model(final_rnn_model, show_shapes=True, show_layer_names=True)\n",
        "\n",
        "# Image will be saved under the name 'model.png'\n",
        "Image('model.png')"
      ],
      "metadata": {
        "colab": {
          "base_uri": "https://localhost:8080/",
          "height": 455
        },
        "id": "ettnC7whVPKf",
        "outputId": "01dee5f1-991d-44a6-e39b-3ed2aff59103"
      },
      "execution_count": null,
      "outputs": [
        {
          "output_type": "execute_result",
          "data": {
            "text/plain": [
              "<IPython.core.display.Image object>"
            ],
            "image/png": "[encoded data removed]"
          },
          "metadata": {},
          "execution_count": 30
        }
      ]
    },
    {
      "cell_type": "markdown",
      "metadata": {
        "id": "GfrDzm_9YqdI"
      },
      "source": [
        "## 3.2. Inference model\n"
      ]
    },
    {
      "cell_type": "markdown",
      "source": [
        "### 3.2.1. Encoder Model for inference"
      ],
      "metadata": {
        "id": "2uEGPcpt1joT"
      }
    },
    {
      "cell_type": "code",
      "execution_count": null,
      "metadata": {
        "id": "XV1fZFCeYqdI"
      },
      "outputs": [],
      "source": [
        "last_states_encoder = [last_hidden_encoder, last_cell_encoder]\n",
        "inference_encoder_model = Model(inputs = input_seq_encoder, \n",
        "                                outputs = last_states_encoder)"
      ]
    },
    {
      "cell_type": "markdown",
      "metadata": {
        "id": "xNLLgzfCYqdI"
      },
      "source": [
        "### 3.2.2. Decoder Model for inference"
      ]
    },
    {
      "cell_type": "code",
      "execution_count": null,
      "metadata": {
        "id": "qVvOXLeTYqdI"
      },
      "outputs": [],
      "source": [
        "decoder_initial_state = [Input(shape = (256,)), Input(shape = (256,))]  \n",
        "all_hidden_decoder, last_hidden_decoder, last_cell_decoder = decoder_lstm(input_seq_decoder, \n",
        "                                                                          initial_state = decoder_initial_state)\n",
        "logits = decoder_dense(all_hidden_decoder)\n",
        "inference_decoder_model = Model(inputs  = [input_seq_decoder] + decoder_initial_state, \n",
        "                                outputs = [logits, \n",
        "                                          last_hidden_decoder, \n",
        "                                          last_cell_decoder])"
      ]
    },
    {
      "cell_type": "markdown",
      "metadata": {
        "id": "2szpqmrAYqdI"
      },
      "source": [
        "### 3.2.3. Decode Sequence Function"
      ]
    },
    {
      "cell_type": "code",
      "execution_count": null,
      "metadata": {
        "id": "eVdj3ghEYqdI"
      },
      "outputs": [],
      "source": [
        "target_id_to_word = {idx:word for word, idx in fre_tokenizer.word_index.items()}\n",
        "\n",
        "def decode_sequence(input_seq):\n",
        "    \"\"\"\n",
        "    Gets predictions using the final model defined above\n",
        "    :param input_seq: (list) encoded english sentence (list of word ids)\n",
        "    returns : translated French sentence\n",
        "    \"\"\"\n",
        "    decoder_input = inference_encoder_model.predict(input_seq)\n",
        "\n",
        "    # Initialize decoder input as a length 1 sentence containing \"startofsentence\",\n",
        "    # --> feeding the start token as the first predicted word\n",
        "    prev_word = np.zeros((1, 1, 1))\n",
        "    prev_word[0, 0, 0] = fre_tokenizer.word_index[\"startofsentence\"]\n",
        "\n",
        "    stop_condition = False\n",
        "    translation = []\n",
        "    while not stop_condition:\n",
        "        # 1. predict the next word using decoder model\n",
        "        logits, last_h, last_c = inference_decoder_model.predict([prev_word] + decoder_input)\n",
        "        \n",
        "        # 2. Update prev_word with the predicted word\n",
        "        predicted_id = np.argmax(logits[0, 0, :])\n",
        "        predicted_word = target_id_to_word[predicted_id]\n",
        "        translation.append(predicted_word)\n",
        "\n",
        "        # 3. Enable End Condition: (1) if predicted word is \"endofsentence\" OR\n",
        "        #                          (2) if translated sentence reached maximum sentence length\n",
        "        if (predicted_word == 'endofsentence' or len(translation) > decoder_french_target.shape[1]):\n",
        "            stop_condition = True\n",
        "\n",
        "        # 4. Update prev_word with the predicted word\n",
        "        prev_word[0, 0, 0] = predicted_id\n",
        "\n",
        "        # 5. Update initial_states with the previously predicted word's encoder output\n",
        "        decoder_input = [last_h, last_c]\n",
        "\n",
        "    return \" \".join(translation).replace('endofsentence', '')"
      ]
    },
    {
      "cell_type": "markdown",
      "metadata": {
        "id": "NPz9QhmQYqdJ"
      },
      "source": [
        "## 3.3. Predictions"
      ]
    },
    {
      "cell_type": "code",
      "execution_count": null,
      "metadata": {
        "id": "KXnY5P_aYqdJ",
        "outputId": "3748c3f7-7255-4d4a-a7e2-8fafeaf06127",
        "colab": {
          "base_uri": "https://localhost:8080/"
        }
      },
      "outputs": [
        {
          "output_type": "stream",
          "name": "stdout",
          "text": [
            "English Sentence            :  i plan to visit france in spring .\n",
            "Predicted French Translation:  je prévois de visiter la france au printemps \n",
            "Correct French Translation  :  je prévois de visiter la france au printemps .\n",
            "\n",
            "English Sentence            :  she likes grapes , apples , and grapefruit.\n",
            "Predicted French Translation:  elle aime les raisins les pommes et le pamplemousse \n",
            "Correct French Translation  :  elle aime les raisins , les pommes et le pamplemousse .\n",
            "\n",
            "English Sentence            :  my most loved animal was that bird .\n",
            "Predicted French Translation:  mon animal le plus aimé était cet oiseau \n",
            "Correct French Translation  :  mon animal le plus aimé était cet oiseau .\n",
            "\n",
            "English Sentence            :  france is pleasant during july , but it is usually dry in december .\n",
            "Predicted French Translation:  la france est agréable en juillet mais il est généralement sec en décembre \n",
            "Correct French Translation  :  la france est agréable en juillet , mais il est généralement sec en décembre .\n",
            "\n"
          ]
        }
      ],
      "source": [
        "# TODO: Print prediction(s)\n",
        "for i in [293, 296, 393, 418]:\n",
        "    english_seq = eng_encoded[i].reshape(1, eng_encoded.shape[1])\n",
        "    french_translation = decode_sequence(english_seq)\n",
        "    \n",
        "    print(\"English Sentence            : \", eng_sentences[i])\n",
        "    print(\"Predicted French Translation: \", french_translation)\n",
        "    print(\"Correct French Translation  : \", fre_sentences[i])\n",
        "    print()"
      ]
    },
    {
      "cell_type": "markdown",
      "metadata": {
        "id": "82jiQWq9YqdJ"
      },
      "source": [
        "seems like perfect translations for the standarad of the simple dataset with limited vocabulary!"
      ]
    }
  ],
  "metadata": {
    "kernelspec": {
      "display_name": "Python 3 (ipykernel)",
      "language": "python",
      "name": "python3"
    },
    "language_info": {
      "codemirror_mode": {
        "name": "ipython",
        "version": 3
      },
      "file_extension": ".py",
      "mimetype": "text/x-python",
      "name": "python",
      "nbconvert_exporter": "python",
      "pygments_lexer": "ipython3",
      "version": "3.8.9"
    },
    "colab": {
      "name": "machine_translation_seq2seq.ipynb",
      "provenance": [],
      "collapsed_sections": [],
      "toc_visible": true
    },
    "accelerator": "GPU"
  },
  "nbformat": 4,
  "nbformat_minor": 0
}